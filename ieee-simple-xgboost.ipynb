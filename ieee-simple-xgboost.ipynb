{
 "cells": [
  {
   "cell_type": "code",
   "execution_count": 3,
   "metadata": {
    "_cell_guid": "b1076dfc-b9ad-4769-8c92-a6c4dae69d19",
    "_uuid": "8f2839f25d086af736a60e9eeb907d3b93b6e0e5"
   },
   "outputs": [
    {
     "name": "stdout",
     "output_type": "stream",
     "text": [
      "['sample_submission.csv', 'test_identity.csv', 'test_transaction.csv', 'train_identity.csv', 'train_transaction.csv']\n"
     ]
    }
   ],
   "source": [
    "import numpy as np # linear algebra\n",
    "import pandas as pd # data processing, CSV file I/O (e.g. pd.read_csv)\n",
    "import os\n",
    "input_dir = 'input'\n",
    "print(os.listdir(input_dir))"
   ]
  },
  {
   "cell_type": "code",
   "execution_count": 4,
   "metadata": {
    "_cell_guid": "79c7e3d0-c299-4dcb-8224-4455121ee9b0",
    "_uuid": "d629ff2d2480ee46fbb7e2d37f6b5fab8052498a"
   },
   "outputs": [],
   "source": [
    "from sklearn import preprocessing\n",
    "import xgboost as xgb\n",
    "import lightgbm as lgb\n",
    "from sklearn.metrics import roc_auc_score,precision_recall_curve,roc_curve\n",
    "import matplotlib.pyplot as plt\n",
    "import imblearn #for SMOTE\n",
    "from sklearn.decomposition import PCA, KernelPCA\n",
    "from sklearn.model_selection import train_test_split\n"
   ]
  },
  {
   "cell_type": "code",
   "execution_count": 5,
   "metadata": {},
   "outputs": [],
   "source": [
    "# params = {'num_leaves': 491,\n",
    "#           'min_child_weight': 0.03454472573214212,\n",
    "#           'feature_fraction': 0.3797454081646243,\n",
    "#           'bagging_fraction': 0.4181193142567742,\n",
    "#           'min_data_in_leaf': 106,\n",
    "#           'objective': 'binary',\n",
    "#           'max_depth': 20,\n",
    "#           'learning_rate': 0.006883242363721497,\n",
    "#           \"boosting_type\": \"gbdt\",\n",
    "#           \"bagging_seed\": 11,\n",
    "#           \"metric\": 'auc',\n",
    "#           \"verbosity\": -1,\n",
    "#           'reg_alpha': 0.3899927210061127,\n",
    "#           'reg_lambda': 0.6485237330340494,\n",
    "#           'random_state': 47\n",
    "#          }"
   ]
  },
  {
   "cell_type": "code",
   "execution_count": 6,
   "metadata": {},
   "outputs": [
    {
     "name": "stdout",
     "output_type": "stream",
     "text": [
      "Wall time: 0 ns\n"
     ]
    }
   ],
   "source": [
    "%%time\n",
    "# From kernel https://www.kaggle.com/gemartin/load-data-reduce-memory-usage\n",
    "# WARNING! THIS CAN DAMAGE THE DATA \n",
    "def reduce_mem_usage2(df):\n",
    "    \"\"\" iterate through all the columns of a dataframe and modify the data type\n",
    "        to reduce memory usage.        \n",
    "    \"\"\"\n",
    "    start_mem = df.memory_usage().sum() / 1024**2\n",
    "    print('Memory usage of dataframe is {:.2f} MB'.format(start_mem))\n",
    "    \n",
    "    for col in df.columns:\n",
    "        col_type = df[col].dtype\n",
    "        \n",
    "        if col_type != object:\n",
    "            c_min = df[col].min()\n",
    "            c_max = df[col].max()\n",
    "            if str(col_type)[:3] == 'int':\n",
    "                if c_min > np.iinfo(np.int8).min and c_max < np.iinfo(np.int8).max:\n",
    "                    df[col] = df[col].astype(np.int8)\n",
    "                elif c_min > np.iinfo(np.int16).min and c_max < np.iinfo(np.int16).max:\n",
    "                    df[col] = df[col].astype(np.int16)\n",
    "                elif c_min > np.iinfo(np.int32).min and c_max < np.iinfo(np.int32).max:\n",
    "                    df[col] = df[col].astype(np.int32)\n",
    "                elif c_min > np.iinfo(np.int64).min and c_max < np.iinfo(np.int64).max:\n",
    "                    df[col] = df[col].astype(np.int64)  \n",
    "            else:\n",
    "                if c_min > np.finfo(np.float16).min and c_max < np.finfo(np.float16).max:\n",
    "                    df[col] = df[col].astype(np.float16)\n",
    "                elif c_min > np.finfo(np.float32).min and c_max < np.finfo(np.float32).max:\n",
    "                    df[col] = df[col].astype(np.float32)\n",
    "                else:\n",
    "                    df[col] = df[col].astype(np.float64)\n",
    "#         else:\n",
    "#             df[col] = df[col].astype('category')\n",
    "\n",
    "    end_mem = df.memory_usage().sum() / 1024**2\n",
    "    print('Memory usage after optimization is: {:.2f} MB'.format(end_mem))\n",
    "    print('Decreased by {:.1f}%'.format(100 * (start_mem - end_mem) / start_mem))\n",
    "    \n",
    "    return df"
   ]
  },
  {
   "cell_type": "code",
   "execution_count": 61,
   "metadata": {},
   "outputs": [
    {
     "name": "stdout",
     "output_type": "stream",
     "text": [
      "Wall time: 0 ns\n"
     ]
    }
   ],
   "source": [
    "%%time\n",
    "def train_xgb(trainx,trainy):\n",
    "    clf = xgb.XGBClassifier(n_estimators=500,\n",
    "                        n_jobs=-1,\n",
    "                        max_depth=9,\n",
    "                        learning_rate=0.05,\n",
    "                        subsample=0.9,\n",
    "                        colsample_bytree=0.9,\n",
    "                        missing=-999,\n",
    "                        #tree_method='gpu_hist'\n",
    "                        )\n",
    "\n",
    "    clf.fit(trainx,trainy)\n",
    "    return clf\n",
    "from sklearn.linear_model import LogisticRegression\n",
    "\n",
    "def train_lbg(trainx,trainy):\n",
    "    params={'learning_rate': 0.01,\n",
    "            'objective': 'binary',\n",
    "            'metric': 'auc',\n",
    "            'num_threads': -1,\n",
    "            'num_leaves': 256,\n",
    "            'verbose': 1,\n",
    "            'random_state': 42,\n",
    "            'bagging_fraction': 1,\n",
    "            'feature_fraction': 0.85,\n",
    "#             'is_unbalance':True\n",
    "            'scale_pos_weight':6\n",
    "           }\n",
    "    clf = lgb.LGBMClassifier(**params,n_estimators=4000)\n",
    "    clf.fit(trainx,trainy)\n",
    "    return clf\n",
    "\n",
    "def train_logistic(trainx,trainy):\n",
    "    lr=LogisticRegression(max_iter=10000)\n",
    "    lr.fit(X_train,y_train)\n",
    "    return lr"
   ]
  },
  {
   "cell_type": "code",
   "execution_count": 8,
   "metadata": {},
   "outputs": [],
   "source": [
    "#Plotting\n",
    "from sklearn.metrics import auc\n",
    "def plot_pre_curve(y_validation,probs,title=''):\n",
    "    precision, recall, thresholds = precision_recall_curve(y_validation, probs)\n",
    "#     fpr, tpr, thresholds = metrics.roc_curve(y, pred, pos_label=2)\n",
    "    auc_pr = auc(recall,precision)\n",
    "    plt.plot([0, 1], [0.5, 0.5], linestyle='--')\n",
    "    # plot the precision-recall curve for the model\n",
    "    plt.plot(recall, precision, marker='.')\n",
    "    plt.title(title+\" precision recall curve \"+str(auc_pr))\n",
    "    plt.xlabel('Recall')\n",
    "    plt.ylabel('Precision')\n",
    "    # show the plot\n",
    "    plt.show()\n",
    "    \n",
    "def plot_roc(y_validation,probs,title=''):\n",
    "    fpr, tpr, thresholds = roc_curve(y_validation, probs)\n",
    "    # plot no skill\n",
    "    plt.plot([0, 1], [0, 1], linestyle='--')\n",
    "    # plot the roc curve for the model\n",
    "    plt.plot(fpr, tpr, marker='.')\n",
    "    plt.title(title+\" ROC curve \"+str(roc_auc_score(y_validation,probs)))\n",
    "    plt.xlabel('false positive rate')\n",
    "    plt.ylabel('true positive rate')\n",
    "    # show the plot\n",
    "    plt.show()\n",
    "def feature_importance(model):\n",
    "    feature_importance = model.feature_importances_\n",
    "    feature_importance = 100.0 * (feature_importance / feature_importance.max())\n",
    "    sorted_idx = np.argsort(feature_importance)\n",
    "    sorted_idx = sorted_idx[len(feature_importance) - 50:]\n",
    "    pos = np.arange(sorted_idx.shape[0]) + .5\n",
    "\n",
    "    plt.figure(figsize=(10,12))\n",
    "    plt.barh(pos, feature_importance[sorted_idx], align='center')\n",
    "    plt.yticks(pos, X_train.columns[sorted_idx])\n",
    "    plt.xlabel('Relative Importance')\n",
    "    plt.title('Variable Importance')\n",
    "    plt.show()"
   ]
  },
  {
   "cell_type": "code",
   "execution_count": 9,
   "metadata": {},
   "outputs": [],
   "source": [
    "from sklearn.model_selection import KFold, TimeSeriesSplit\n",
    "\n",
    "def cross_validation_lgb(x,y):\n",
    "    aucs = []\n",
    "    for fold, (trn_idx, test_idx) in enumerate(TimeSeriesSplit(n_splits=5).split(x, y)):\n",
    "        print('Training on fold {}'.format(fold + 1))\n",
    "        trn_data = lgb.Dataset(x.iloc[trn_idx], label=y.iloc[trn_idx])\n",
    "        val_data = lgb.Dataset(x.iloc[test_idx], label=y.iloc[test_idx])\n",
    "        clf = lgb.train(params, trn_data, 10000, valid_sets = [trn_data, val_data], verbose_eval=1000, early_stopping_rounds=500)\n",
    "        aucs.append(clf.best_score['valid_1']['auc'])\n",
    "    print('Training has finished.')\n",
    "    print('Mean AUC:', np.mean(aucs))\n",
    "\n",
    "def predict_plot(model):\n",
    "    print(y_validation.shape,X_validation.shape)\n",
    "    predictions =model.predict_proba(X_validation)[:,1]\n",
    "    plot_pre_curve(y_validation,predictions,title='TEST ')\n",
    "    plot_roc(y_validation,predictions,title='TEST ')\n",
    "\n",
    "def predict_plot_train(model):\n",
    "    predictions =model.predict_proba(X_train)[:,1]\n",
    "    plot_pre_curve(y_train,predictions,title='TRAIN ')\n",
    "    plot_roc(y_train,predictions,title='TRAIN ')\n",
    "    feature_importance(model)\n"
   ]
  },
  {
   "cell_type": "code",
   "execution_count": 10,
   "metadata": {},
   "outputs": [],
   "source": [
    "def label_encoding():\n",
    "    # Label Encoding\n",
    "    for f in test.columns:\n",
    "        if train[f].dtype=='object' or test[f].dtype=='object': \n",
    "            lbl = preprocessing.LabelEncoder()\n",
    "            lbl.fit(list(train[f].values) + list(test[f].values))\n",
    "            train[f] = lbl.transform(list(train[f].values))\n",
    "            test[f] = lbl.transform(list(test[f].values))   "
   ]
  },
  {
   "cell_type": "code",
   "execution_count": 11,
   "metadata": {},
   "outputs": [],
   "source": [
    "import datetime\n",
    "def engineer_dates(df):\n",
    "    START_DATE = '2017-12-01'\n",
    "    startdate = datetime.datetime.strptime(START_DATE, \"%Y-%m-%d\")\n",
    "    df['Date'] = df['TransactionDT'].apply(lambda x: (startdate + datetime.timedelta(seconds=x)))\n",
    "    df['_weekday'] = df['Date'].dt.dayofweek\n",
    "    df['_hour'] = df['Date'].dt.hour\n",
    "    df['_day'] = df['Date'].dt.day\n",
    "\n",
    "    df['_weekday'] = df['_weekday'].astype(str)\n",
    "    df['_hour'] = df['_hour'].astype(str)\n",
    "    df['_weekday__hour'] = df['_weekday'] + df['_hour']\n",
    "\n",
    "    cnt_day = df['_day'].value_counts()\n",
    "    cnt_day = cnt_day / cnt_day.mean()\n",
    "    df['_count_rate'] = df['_day'].map(cnt_day.to_dict())\n",
    "\n",
    "    df.drop(['TransactionDT','Date','_day'], axis=1, inplace=True)"
   ]
  },
  {
   "cell_type": "code",
   "execution_count": 12,
   "metadata": {},
   "outputs": [],
   "source": [
    "def pca_vcols(all_data):\n",
    "    vcols = [f'V{i}' for i in range(1,340)]\n",
    "    sc = preprocessing.MinMaxScaler()\n",
    "#     sc = preprocessing.StandardScaler()\n",
    "\n",
    "    pca = PCA(n_components=2) #0.99\n",
    "    vcol_pca = pca.fit_transform(sc.fit_transform(all_data[vcols].fillna(-1)))\n",
    "\n",
    "    all_data['_vcol_pca0'] = vcol_pca[:,0]\n",
    "    all_data['_vcol_pca1'] = vcol_pca[:,1]\n",
    "    all_data['_vcol_nulls'] = all_data[vcols].isnull().sum(axis=1)\n",
    "\n",
    "    all_data.drop(vcols, axis=1, inplace=True)\n"
   ]
  },
  {
   "cell_type": "code",
   "execution_count": 13,
   "metadata": {},
   "outputs": [],
   "source": [
    "def extract_amount_features(all_data):\n",
    "    import re\n",
    "    #strong id features\n",
    "    all_data['_P_emaildomain__addr1'] = all_data['P_emaildomain'].astype(str) + '__' + all_data['addr1'].astype(str)\n",
    "    all_data['_card1__card2'] = all_data['card1'].astype(str) + '__' + all_data['card2'].astype(str)\n",
    "    all_data['_card1__addr1'] = all_data['card1'].astype(str) + '__' + all_data['addr1'].astype(str)\n",
    "    all_data['_card2__addr1'] = all_data['card2'].astype(str) + '__' + all_data['addr1'].astype(str)\n",
    "    all_data['_card12__addr1'] = all_data['_card1__card2'] + '__' + all_data['addr1'].astype(str)\n",
    "    all_data['_card_all__addr1'] = all_data['_card1__card2'] + '__' + all_data['addr1'].astype(str)\n",
    "    \n",
    "    #amount features\n",
    "    all_data['_amount_decimal'] = ((all_data['TransactionAmt'] - all_data['TransactionAmt'].astype(int)) * 1000).astype(int)\n",
    "    all_data['_amount_decimal_len'] = all_data['TransactionAmt'].apply(lambda x: len(re.sub('0+$', '', str(x)).split('.')[1]))\n",
    "    all_data['_amount_fraction'] = all_data['TransactionAmt'].apply(lambda x: float('0.'+re.sub('^[0-9]|\\.|0+$', '', str(x))))\n",
    "    \n",
    "    \n",
    "    # statistics based on several features (how thery were chosen?? TODO)\n",
    "    cols = ['ProductCD','card1','card2','card5','card6','P_emaildomain','_card_all__addr1']\n",
    "\n",
    "    # amount mean&std\n",
    "    for f in cols:\n",
    "        all_data[f'_amount_mean_{f}'] = all_data['TransactionAmt'] / all_data.groupby([f])['TransactionAmt'].transform('mean')\n",
    "        all_data[f'_amount_std_{f}'] = all_data['TransactionAmt'] / all_data.groupby([f])['TransactionAmt'].transform('std')\n",
    "        all_data[f'_amount_pct_{f}'] = (all_data['TransactionAmt'] - all_data[f'_amount_mean_{f}']) / all_data[f'_amount_std_{f}']\n",
    "\n",
    "    # freq encoding\n",
    "    for f in cols:\n",
    "        vc = all_data[f].value_counts(dropna=False)\n",
    "        all_data[f'_count_{f}'] = all_data[f].map(vc)\n",
    "    \n",
    "    # handle object columns    \n",
    "    cat_cols = [f'id_{i}' for i in range(12,39)]\n",
    "    for i in cat_cols:\n",
    "        if i in all_data.columns:\n",
    "            all_data[i] = all_data[i].astype(str)\n",
    "            all_data[i].fillna(-999, inplace=True)\n",
    "\n",
    "    enc_cols = []\n",
    "    for i, t in all_data.loc[:, all_data.columns != 'isFraud'].dtypes.iteritems():\n",
    "        if t == object:\n",
    "            enc_cols.append(i)\n",
    "            #df = pd.concat([df, pd.get_dummies(df[i].astype(str), prefix=i)], axis=1)\n",
    "            #df.drop(i, axis=1, inplace=True)\n",
    "            all_data[i] = pd.factorize(all_data[i])[0]\n",
    "            #all_data[i] = all_data[i].astype('category')\n",
    "    all_data = all_data.replace([np.inf, -np.inf], np.nan)\n",
    "    all_data = all_data.fillna(-999)"
   ]
  },
  {
   "cell_type": "code",
   "execution_count": 20,
   "metadata": {},
   "outputs": [
    {
     "name": "stdout",
     "output_type": "stream",
     "text": [
      "Wall time: 16.1 s\n"
     ]
    }
   ],
   "source": [
    "%%time\n",
    "train_transaction = pd.read_csv(input_dir+'/train_transaction.csv', index_col='TransactionID')\n",
    "# test_transaction = pd.read_csv(input_dir+'/test_transaction.csv', index_col='TransactionID')\n",
    "\n",
    "train_identity = pd.read_csv(input_dir+'/train_identity.csv', index_col='TransactionID')\n",
    "# test_identity = pd.read_csv(input_dir+'/test_identity.csv', index_col='TransactionID')\n",
    "\n",
    "sample_submission = pd.read_csv(input_dir+'/sample_submission.csv', index_col='TransactionID')"
   ]
  },
  {
   "cell_type": "code",
   "execution_count": 21,
   "metadata": {},
   "outputs": [],
   "source": [
    "# test_ids =test_transaction.index"
   ]
  },
  {
   "cell_type": "code",
   "execution_count": 22,
   "metadata": {},
   "outputs": [
    {
     "name": "stdout",
     "output_type": "stream",
     "text": [
      "(590540, 433)\n",
      "Wall time: 4.92 s\n"
     ]
    }
   ],
   "source": [
    "%%time\n",
    "\n",
    "train = train_transaction.merge(train_identity, how='left', left_index=True, right_index=True)\n",
    "# test = test_transaction.merge(test_identity, how='left', left_index=True, right_index=True)\n",
    "\n",
    "train = train.fillna(-999)\n",
    "# test = test.fillna('unknown')\n",
    "# train = reduce_mem_usage2(train)\n",
    "\n",
    "print(train.shape)"
   ]
  },
  {
   "cell_type": "code",
   "execution_count": 25,
   "metadata": {},
   "outputs": [
    {
     "name": "stdout",
     "output_type": "stream",
     "text": [
      "[]\n",
      "0 features are going to be dropped for being useless\n"
     ]
    }
   ],
   "source": [
    "one_value_cols = [col for col in train.columns if train[col].nunique() <= 1]\n",
    "\n",
    "many_null_cols = [col for col in train.columns if train[col].isnull().sum() / train.shape[0] > 0.99]\n",
    "\n",
    "# big_top_value_cols = [col for col in train.columns if train[col].value_counts(dropna=False, normalize=True).values[0] > 0.98]\n",
    "\n",
    "cols_to_drop = list(set(many_null_cols  + one_value_cols))\n",
    "cols_to_drop = list(filter(lambda col: not col.startswith('V'),cols_to_drop))\n",
    "print(cols_to_drop)\n",
    "# cols_to_drop.remove('isFraud')\n",
    "print('{} features are going to be dropped for being useless'.format(len(cols_to_drop)))\n",
    "\n",
    "train = train.drop(cols_to_drop, axis=1)"
   ]
  },
  {
   "cell_type": "code",
   "execution_count": 26,
   "metadata": {},
   "outputs": [],
   "source": [
    "\n",
    "# print(test.shape)\n",
    "# label_encoding()\n",
    "\n",
    "def feature_engineering(df):\n",
    "    pca_vcols(df)\n",
    "    engineer_dates(df)\n",
    "    extract_amount_features(df)\n",
    "    return df\n",
    "\n",
    "train = feature_engineering(train)\n",
    "# test = feature_engineering(test)\n",
    "\n",
    "    \n",
    "# Drop target, fill in NaNs\n",
    "# X_train = train.drop('isFraud', axis=1)\n",
    "# X_validation = test.copy()\n"
   ]
  },
  {
   "cell_type": "code",
   "execution_count": 27,
   "metadata": {},
   "outputs": [],
   "source": [
    "\n",
    "y_train = train['isFraud'].copy()\n",
    "X_train,X_validation,y_train,y_validation=train_test_split(train.drop('isFraud',axis=1),y_train,test_size=.2,random_state=1)"
   ]
  },
  {
   "cell_type": "markdown",
   "metadata": {},
   "source": [
    "from imblearn.over_sampling import SMOTE\n",
    "#ratio='minority'\n",
    "smote = SMOTE(n_jobs=8,sampling_strategy='minority')\n",
    "X_sm, y_sm = smote.fit_sample(X_train, y_train)\n",
    "X_sm.shape,y_sm.shape,X_train.shape"
   ]
  },
  {
   "cell_type": "markdown",
   "metadata": {},
   "source": [
    "X_train.columns"
   ]
  },
  {
   "cell_type": "markdown",
   "metadata": {},
   "source": [
    "%%time\n",
    "clf_lgb_smote = train_lbg(X_sm, y_sm)"
   ]
  },
  {
   "cell_type": "markdown",
   "metadata": {},
   "source": [
    "#clf.predict_proba(X_validation)\n",
    "predict_plot(clf_lgb_smote)\n",
    "#predict_plot(clf)"
   ]
  },
  {
   "cell_type": "code",
   "execution_count": 59,
   "metadata": {},
   "outputs": [
    {
     "name": "stdout",
     "output_type": "stream",
     "text": [
      "[LightGBM] [Warning] feature_fraction is set=0.85, colsample_bytree=1.0 will be ignored. Current value: feature_fraction=0.85\n",
      "[LightGBM] [Warning] bagging_fraction is set=1, subsample=1.0 will be ignored. Current value: bagging_fraction=1\n",
      "[LightGBM] [Warning] num_threads is set=-1, n_jobs=-1 will be ignored. Current value: num_threads=-1\n",
      "[LightGBM] [Warning] feature_fraction is set=0.85, colsample_bytree=1.0 will be ignored. Current value: feature_fraction=0.85\n",
      "[LightGBM] [Warning] bagging_fraction is set=1, subsample=1.0 will be ignored. Current value: bagging_fraction=1\n",
      "[LightGBM] [Warning] num_threads is set=-1, n_jobs=-1 will be ignored. Current value: num_threads=-1\n",
      "[LightGBM] [Info] Number of positive: 16529, number of negative: 455903\n",
      "[LightGBM] [Warning] Auto-choosing col-wise multi-threading, the overhead of testing was 0.213627 seconds.\n",
      "You can set `force_col_wise=true` to remove the overhead.\n",
      "[LightGBM] [Info] Total Bins 19130\n",
      "[LightGBM] [Info] Number of data points in the train set: 472432, number of used features: 135\n",
      "[LightGBM] [Info] [binary:BoostFromScore]: pavg=0.034987 -> initscore=-3.317164\n",
      "[LightGBM] [Info] Start training from score -3.317164\n",
      "Wall time: 6min 14s\n"
     ]
    }
   ],
   "source": [
    "%%time\n",
    "clf_lgb = train_lbg(X_train, y_train)"
   ]
  },
  {
   "cell_type": "code",
   "execution_count": 60,
   "metadata": {},
   "outputs": [
    {
     "name": "stdout",
     "output_type": "stream",
     "text": [
      "(118108,) (118108, 136)\n"
     ]
    },
    {
     "data": {
      "image/png": "[encoded data removed]",
      "text/plain": [
       "<Figure size 432x288 with 1 Axes>"
      ]
     },
     "metadata": {
      "needs_background": "light"
     },
     "output_type": "display_data"
    },
    {
     "data": {
      "image/png": "[encoded data removed]",
      "text/plain": [
       "<Figure size 432x288 with 1 Axes>"
      ]
     },
     "metadata": {
      "needs_background": "light"
     },
     "output_type": "display_data"
    },
    {
     "name": "stdout",
     "output_type": "stream",
     "text": [
      "Wall time: 28 s\n"
     ]
    }
   ],
   "source": [
    "%%time\n",
    "predict_plot(clf_lgb)"
   ]
  },
  {
   "cell_type": "code",
   "execution_count": 76,
   "metadata": {},
   "outputs": [
    {
     "data": {
      "image/png": "[encoded data removed]",
      "text/plain": [
       "<Figure size 432x288 with 1 Axes>"
      ]
     },
     "metadata": {
      "needs_background": "light"
     },
     "output_type": "display_data"
    },
    {
     "data": {
      "image/png": "[encoded data removed]",
      "text/plain": [
       "<Figure size 432x288 with 1 Axes>"
      ]
     },
     "metadata": {
      "needs_background": "light"
     },
     "output_type": "display_data"
    },
    {
     "data": {
      "image/png": "[encoded data removed]",
      "text/plain": [
       "<Figure size 720x864 with 1 Axes>"
      ]
     },
     "metadata": {
      "needs_background": "light"
     },
     "output_type": "display_data"
    },
    {
     "name": "stdout",
     "output_type": "stream",
     "text": [
      "Wall time: 51.4 s\n"
     ]
    }
   ],
   "source": [
    "%%time\n",
    "predict_plot_train(clf_lgb)"
   ]
  },
  {
   "cell_type": "markdown",
   "metadata": {},
   "source": [
    "%%time\n",
    "clf = train_xgb(X_train, y_train)\n",
    "#clf = train_logistic(X_train,y_train)"
   ]
  },
  {
   "cell_type": "markdown",
   "metadata": {},
   "source": [
    "predict_plot(clf)"
   ]
  },
  {
   "cell_type": "markdown",
   "metadata": {},
   "source": [
    "%%time\n",
    "clf_smote = train_xgb(X_sm,y_sm)"
   ]
  },
  {
   "cell_type": "markdown",
   "metadata": {},
   "source": [
    "predict_plot(clf_smote)"
   ]
  },
  {
   "cell_type": "code",
   "execution_count": null,
   "metadata": {},
   "outputs": [],
   "source": [
    "# sample_submission['isFraud'] = clf.predict_proba(X_validation)[:,1]\n",
    "# sample_submission.to_csv('simple_xgboost.csv')"
   ]
  },
  {
   "cell_type": "code",
   "execution_count": null,
   "metadata": {},
   "outputs": [],
   "source": [
    "# def train_and_evaluate(X_train,y_train,X_validation,y_validation):\n",
    "#     clf = xgb.XGBClassifier(n_estimators=500,\n",
    "#                         n_jobs=4,\n",
    "#                         max_depth=9,\n",
    "#                         learning_rate=0.05,\n",
    "#                         subsample=0.9,\n",
    "#                         colsample_bytree=0.9,\n",
    "#                         missing=-999)\n",
    "\n",
    "#     clf.fit(X_train, y_train)\n",
    "#     print(y_validation.shape,X_validation.shape)\n",
    "#     predictions =clf.predict(X_validation)\n",
    "#     plot_pre_curve(y_validation,predictions)\n",
    "#     plot_roc(y_validation,predictions)"
   ]
  },
  {
   "cell_type": "code",
   "execution_count": null,
   "metadata": {},
   "outputs": [],
   "source": []
  },
  {
   "cell_type": "code",
   "execution_count": null,
   "metadata": {},
   "outputs": [],
   "source": [
    "# def deleteStartingWith(df,prefix):\n",
    "#     cols= df.loc[:, df.columns.str.startswith(prefix)]\n",
    "#     del cols\n",
    "#     del df[[col for col in df if col.startswith(prefix)]]\n",
    "# deleteStartingWith(X_train,'M')\n",
    "# deleteStartingWith(X_validation,'M')\n",
    "# deleteStartingWith(X_train,'D')\n",
    "# deleteStartingWith(X_validation,'D')\n",
    "\n",
    "# del X_validation[[col for col in X_train if col.startswith('M')]]"
   ]
  },
  {
   "cell_type": "code",
   "execution_count": null,
   "metadata": {},
   "outputs": [],
   "source": [
    "#submit!\n",
    "def create_submission(model):\n",
    "    test_preds = model.predict_proba(test)[:,1]\n",
    "    submission = pd.DataFrame()\n",
    "    pd.set_option('display.max_rows', 1000)\n",
    "    pd.options.display.max_seq_items = 2000\n",
    "    print(test.columns)\n",
    "    submission['TransactionID'] = test.index\n",
    "    submission['isFraud'] = test_preds\n",
    "    submission.to_csv('submission.csv', index=False)"
   ]
  },
  {
   "cell_type": "markdown",
   "metadata": {},
   "source": [
    "create_submission(clf_lgb)"
   ]
  },
  {
   "cell_type": "code",
   "execution_count": null,
   "metadata": {},
   "outputs": [],
   "source": [
    "pred_ones = [1 for x in y_validation]\n",
    "print(y_validation)\n",
    "plot_roc(y_validation,pred_ones)\n",
    "plot_pre_curve(y_validation,pred_ones)"
   ]
  },
  {
   "cell_type": "code",
   "execution_count": null,
   "metadata": {},
   "outputs": [],
   "source": [
    "cross_validation_lgb(X_validation,y_validation)"
   ]
  },
  {
   "cell_type": "code",
   "execution_count": null,
   "metadata": {},
   "outputs": [],
   "source": []
  }
 ],
 "metadata": {
  "kernelspec": {
   "display_name": "Python 3",
   "language": "python",
   "name": "python3"
  },
  "language_info": {
   "codemirror_mode": {
    "name": "ipython",
    "version": 3
   },
   "file_extension": ".py",
   "mimetype": "text/x-python",
   "name": "python",
   "nbconvert_exporter": "python",
   "pygments_lexer": "ipython3",
   "version": "3.7.6"
  }
 },
 "nbformat": 4,
 "nbformat_minor": 4
}
