{
 "cells": [
  {
   "cell_type": "code",
   "execution_count": 98,
   "metadata": {
    "_cell_guid": "b1076dfc-b9ad-4769-8c92-a6c4dae69d19",
    "_uuid": "8f2839f25d086af736a60e9eeb907d3b93b6e0e5"
   },
   "outputs": [
    {
     "name": "stdout",
     "output_type": "stream",
     "text": [
      "['sample_submission.csv', 'train_identity.csv', 'train_transaction.csv']\n"
     ]
    }
   ],
   "source": [
    "import numpy as np # linear algebra\n",
    "import pandas as pd # data processing, CSV file I/O (e.g. pd.read_csv)\n",
    "import os\n",
    "input_dir = 'input'\n",
    "print(os.listdir(input_dir))"
   ]
  },
  {
   "cell_type": "code",
   "execution_count": 99,
   "metadata": {
    "_cell_guid": "79c7e3d0-c299-4dcb-8224-4455121ee9b0",
    "_uuid": "d629ff2d2480ee46fbb7e2d37f6b5fab8052498a"
   },
   "outputs": [],
   "source": [
    "from sklearn import preprocessing\n",
    "import xgboost as xgb\n",
    "import lightgbm as lgb\n",
    "from sklearn.metrics import roc_auc_score,precision_recall_curve,roc_curve\n",
    "import matplotlib.pyplot as plt\n",
    "import imblearn #for SMOTE\n",
    "from sklearn.decomposition import PCA, KernelPCA"
   ]
  },
  {
   "cell_type": "code",
   "execution_count": 100,
   "metadata": {},
   "outputs": [
    {
     "name": "stdout",
     "output_type": "stream",
     "text": [
      "Wall time: 0 ns\n"
     ]
    }
   ],
   "source": [
    "%%time\n",
    "# From kernel https://www.kaggle.com/gemartin/load-data-reduce-memory-usage\n",
    "# WARNING! THIS CAN DAMAGE THE DATA \n",
    "def reduce_mem_usage2(df):\n",
    "    \"\"\" iterate through all the columns of a dataframe and modify the data type\n",
    "        to reduce memory usage.        \n",
    "    \"\"\"\n",
    "    start_mem = df.memory_usage().sum() / 1024**2\n",
    "    print('Memory usage of dataframe is {:.2f} MB'.format(start_mem))\n",
    "    \n",
    "    for col in df.columns:\n",
    "        col_type = df[col].dtype\n",
    "        \n",
    "        if col_type != object:\n",
    "            c_min = df[col].min()\n",
    "            c_max = df[col].max()\n",
    "            if str(col_type)[:3] == 'int':\n",
    "                if c_min > np.iinfo(np.int8).min and c_max < np.iinfo(np.int8).max:\n",
    "                    df[col] = df[col].astype(np.int8)\n",
    "                elif c_min > np.iinfo(np.int16).min and c_max < np.iinfo(np.int16).max:\n",
    "                    df[col] = df[col].astype(np.int16)\n",
    "                elif c_min > np.iinfo(np.int32).min and c_max < np.iinfo(np.int32).max:\n",
    "                    df[col] = df[col].astype(np.int32)\n",
    "                elif c_min > np.iinfo(np.int64).min and c_max < np.iinfo(np.int64).max:\n",
    "                    df[col] = df[col].astype(np.int64)  \n",
    "            else:\n",
    "                if c_min > np.finfo(np.float16).min and c_max < np.finfo(np.float16).max:\n",
    "                    df[col] = df[col].astype(np.float16)\n",
    "                elif c_min > np.finfo(np.float32).min and c_max < np.finfo(np.float32).max:\n",
    "                    df[col] = df[col].astype(np.float32)\n",
    "                else:\n",
    "                    df[col] = df[col].astype(np.float64)\n",
    "#         else:\n",
    "#             df[col] = df[col].astype('category')\n",
    "\n",
    "    end_mem = df.memory_usage().sum() / 1024**2\n",
    "    print('Memory usage after optimization is: {:.2f} MB'.format(end_mem))\n",
    "    print('Decreased by {:.1f}%'.format(100 * (start_mem - end_mem) / start_mem))\n",
    "    \n",
    "    return df"
   ]
  },
  {
   "cell_type": "code",
   "execution_count": 101,
   "metadata": {},
   "outputs": [
    {
     "name": "stdout",
     "output_type": "stream",
     "text": [
      "Wall time: 0 ns\n"
     ]
    }
   ],
   "source": [
    "%%time\n",
    "def train_xgb(trainx,trainy):\n",
    "    clf = xgb.XGBClassifier(n_estimators=500,\n",
    "                        n_jobs=-1,\n",
    "                        max_depth=9,\n",
    "                        learning_rate=0.05,\n",
    "                        subsample=0.9,\n",
    "                        colsample_bytree=0.9,\n",
    "                        missing=-999,\n",
    "                        #tree_method='gpu_hist'\n",
    "                        )\n",
    "\n",
    "    clf.fit(trainx,trainy)\n",
    "    return clf\n",
    "from sklearn.linear_model import LogisticRegression\n",
    "\n",
    "def train_lbg(trainx,trainy):\n",
    "    params={'learning_rate': 0.01,\n",
    "            'objective': 'binary',\n",
    "            'metric': 'auc',\n",
    "            'num_threads': -1,\n",
    "            'num_leaves': 256,\n",
    "            'verbose': 1,\n",
    "            'random_state': 42,\n",
    "            'bagging_fraction': 1,\n",
    "            'feature_fraction': 0.85\n",
    "           }\n",
    "    clf = lgb.LGBMClassifier(**params, n_estimators=3000)\n",
    "    clf.fit(trainx,trainy)\n",
    "    return clf\n",
    "\n",
    "def train_logistic(trainx,trainy):\n",
    "    lr=LogisticRegression(max_iter=10000)\n",
    "    lr.fit(X_train,y_train)\n",
    "    return lr"
   ]
  },
  {
   "cell_type": "code",
   "execution_count": 102,
   "metadata": {},
   "outputs": [],
   "source": [
    "#Plotting\n",
    "from sklearn.metrics import auc\n",
    "def plot_pre_curve(y_test,probs):\n",
    "    precision, recall, thresholds = precision_recall_curve(y_test, probs)\n",
    "#     fpr, tpr, thresholds = metrics.roc_curve(y, pred, pos_label=2)\n",
    "    auc_pr = auc(recall,precision)\n",
    "    plt.plot([0, 1], [0.5, 0.5], linestyle='--')\n",
    "    # plot the precision-recall curve for the model\n",
    "    plt.plot(recall, precision, marker='.')\n",
    "    plt.title(\"precision recall curve \"+str(auc_pr))\n",
    "    plt.xlabel('Recall')\n",
    "    plt.ylabel('Precision')\n",
    "    # show the plot\n",
    "    plt.show()\n",
    "    \n",
    "def plot_roc(y_test,probs):\n",
    "    fpr, tpr, thresholds = roc_curve(y_test, probs)\n",
    "    # plot no skill\n",
    "    plt.plot([0, 1], [0, 1], linestyle='--')\n",
    "    # plot the roc curve for the model\n",
    "    plt.plot(fpr, tpr, marker='.')\n",
    "    plt.title(\"ROC curve \"+str(roc_auc_score(y_test,probs)))\n",
    "    plt.xlabel('false positive rate')\n",
    "    plt.ylabel('true positive rate')\n",
    "    # show the plot\n",
    "    plt.show()"
   ]
  },
  {
   "cell_type": "code",
   "execution_count": 103,
   "metadata": {},
   "outputs": [],
   "source": [
    "def predict_plot(model):\n",
    "    print(y_test.shape,X_test.shape)\n",
    "    predictions =model.predict_proba(X_test)[:,1]\n",
    "    print(predictions)\n",
    "    plot_pre_curve(y_test,predictions)\n",
    "    plot_roc(y_test,predictions)\n"
   ]
  },
  {
   "cell_type": "code",
   "execution_count": 104,
   "metadata": {},
   "outputs": [
    {
     "name": "stdout",
     "output_type": "stream",
     "text": [
      "Wall time: 5.65 s\n"
     ]
    }
   ],
   "source": [
    "%%time\n",
    "train_transaction = pd.read_csv(input_dir+'/train_transaction.csv', index_col='TransactionID',nrows=160000)\n",
    "# test_transaction = pd.read_csv(input_dir+'/test_transaction.csv', index_col='TransactionID')\n",
    "\n",
    "train_identity = pd.read_csv(input_dir+'/train_identity.csv', index_col='TransactionID')\n",
    "# test_identity = pd.read_csv(input_dir+'/test_identity.csv', index_col='TransactionID')\n",
    "\n",
    "sample_submission = pd.read_csv(input_dir+'/sample_submission.csv', index_col='TransactionID')"
   ]
  },
  {
   "cell_type": "code",
   "execution_count": 105,
   "metadata": {},
   "outputs": [
    {
     "name": "stdout",
     "output_type": "stream",
     "text": [
      "Memory usage of dataframe is 534.79 MB\n",
      "Memory usage after optimization is: 174.22 MB\n",
      "Decreased by 67.4%\n",
      "(160000, 433)\n",
      "Wall time: 37.9 s\n"
     ]
    }
   ],
   "source": [
    "%%time\n",
    "from sklearn.model_selection import train_test_split\n",
    "\n",
    "train = train_transaction.merge(train_identity, how='left', left_index=True, right_index=True)\n",
    "# test = test_transaction.merge(test_identity, how='left', left_index=True, right_index=True)\n",
    "train = train.fillna(-999)\n",
    "# m_features = \n",
    "train = reduce_mem_usage2(train)\n",
    "\n",
    "print(train.shape)\n",
    "# print(test.shape)\n",
    "\n",
    "\n",
    "\n",
    "# Drop target, fill in NaNs\n",
    "# X_train = train.drop('isFraud', axis=1)\n",
    "# X_test = test.copy()\n"
   ]
  },
  {
   "cell_type": "code",
   "execution_count": 106,
   "metadata": {},
   "outputs": [],
   "source": [
    "# Label Encoding\n",
    "for f in X_train.columns:\n",
    "    if X_train[f].dtype=='object' or X_test[f].dtype=='object': \n",
    "        lbl = preprocessing.LabelEncoder()\n",
    "        lbl.fit(list(X_train[f].values) + list(X_test[f].values))\n",
    "        X_train[f] = lbl.transform(list(X_train[f].values))\n",
    "        X_test[f] = lbl.transform(list(X_test[f].values))   "
   ]
  },
  {
   "cell_type": "code",
   "execution_count": 107,
   "metadata": {},
   "outputs": [],
   "source": [
    "import datetime\n",
    "\n",
    "START_DATE = '2017-12-01'\n",
    "startdate = datetime.datetime.strptime(START_DATE, \"%Y-%m-%d\")\n",
    "train['Date'] = train['TransactionDT'].apply(lambda x: (startdate + datetime.timedelta(seconds=x)))\n",
    "train['_weekday'] = train['Date'].dt.dayofweek\n",
    "train['_hour'] = train['Date'].dt.hour\n",
    "train['_day'] = train['Date'].dt.day\n",
    "\n",
    "train['_weekday'] = train['_weekday'].astype(str)\n",
    "train['_hour'] = train['_hour'].astype(str)\n",
    "train['_weekday__hour'] = train['_weekday'] + train['_hour']\n",
    "\n",
    "cnt_day = train['_day'].value_counts()\n",
    "cnt_day = cnt_day / cnt_day.mean()\n",
    "train['_count_rate'] = train['_day'].map(cnt_day.to_dict())\n",
    "\n",
    "train.drop(['TransactionDT','Date','_day'], axis=1, inplace=True)"
   ]
  },
  {
   "cell_type": "code",
   "execution_count": 108,
   "metadata": {},
   "outputs": [],
   "source": [
    "def pca_vcols(all_data):\n",
    "    vcols = [f'V{i}' for i in range(1,340)]\n",
    "    sc = preprocessing.MinMaxScaler()\n",
    "\n",
    "    pca = PCA(n_components=2) #0.99\n",
    "    vcol_pca = pca.fit_transform(sc.fit_transform(all_data[vcols].fillna(-1)))\n",
    "\n",
    "    all_data['_vcol_pca0'] = vcol_pca[:,0]\n",
    "    all_data['_vcol_pca1'] = vcol_pca[:,1]\n",
    "    all_data['_vcol_nulls'] = all_data[vcols].isnull().sum(axis=1)\n",
    "\n",
    "    all_data.drop(vcols, axis=1, inplace=True)\n",
    "pca_vcols(train)"
   ]
  },
  {
   "cell_type": "code",
   "execution_count": 109,
   "metadata": {},
   "outputs": [],
   "source": [
    "def extract_amount_features(all_data):\n",
    "    import re\n",
    "    #strong id features\n",
    "    all_data['_P_emaildomain__addr1'] = all_data['P_emaildomain'].astype(str) + '__' + all_data['addr1'].astype(str)\n",
    "    all_data['_card1__card2'] = all_data['card1'].astype(str) + '__' + all_data['card2'].astype(str)\n",
    "    all_data['_card1__addr1'] = all_data['card1'].astype(str) + '__' + all_data['addr1'].astype(str)\n",
    "    all_data['_card2__addr1'] = all_data['card2'].astype(str) + '__' + all_data['addr1'].astype(str)\n",
    "    all_data['_card12__addr1'] = all_data['_card1__card2'] + '__' + all_data['addr1'].astype(str)\n",
    "    all_data['_card_all__addr1'] = all_data['_card1__card2'] + '__' + all_data['addr1'].astype(str)\n",
    "    \n",
    "    #amount features\n",
    "    all_data['_amount_decimal'] = ((all_data['TransactionAmt'] - all_data['TransactionAmt'].astype(int)) * 1000).astype(int)\n",
    "    all_data['_amount_decimal_len'] = all_data['TransactionAmt'].apply(lambda x: len(re.sub('0+$', '', str(x)).split('.')[1]))\n",
    "    all_data['_amount_fraction'] = all_data['TransactionAmt'].apply(lambda x: float('0.'+re.sub('^[0-9]|\\.|0+$', '', str(x))))\n",
    "    all_data[['TransactionAmt','_amount_decimal','_amount_decimal_len','_amount_fraction']].head(10)\n",
    "    \n",
    "    \n",
    "    # statistics based on several features (how thery were chosen?? TODO)\n",
    "    cols = ['ProductCD','card1','card2','card5','card6','P_emaildomain','_card_all__addr1']\n",
    "    #,'card3','card4','addr1','dist2','R_emaildomain'\n",
    "\n",
    "    # amount mean&std\n",
    "    for f in cols:\n",
    "        all_data[f'_amount_mean_{f}'] = all_data['TransactionAmt'] / all_data.groupby([f])['TransactionAmt'].transform('mean')\n",
    "        all_data[f'_amount_std_{f}'] = all_data['TransactionAmt'] / all_data.groupby([f])['TransactionAmt'].transform('std')\n",
    "        all_data[f'_amount_pct_{f}'] = (all_data['TransactionAmt'] - all_data[f'_amount_mean_{f}']) / all_data[f'_amount_std_{f}']\n",
    "\n",
    "    # freq encoding\n",
    "    for f in cols:\n",
    "        vc = all_data[f].value_counts(dropna=False)\n",
    "        all_data[f'_count_{f}'] = all_data[f].map(vc)\n",
    "    \n",
    "    # handle object columns    \n",
    "    cat_cols = [f'id_{i}' for i in range(12,39)]\n",
    "    for i in cat_cols:\n",
    "        if i in all_data.columns:\n",
    "            all_data[i] = all_data[i].astype(str)\n",
    "            all_data[i].fillna('unknown', inplace=True)\n",
    "\n",
    "    enc_cols = []\n",
    "    for i, t in all_data.loc[:, all_data.columns != 'isFraud'].dtypes.iteritems():\n",
    "        if t == object:\n",
    "            enc_cols.append(i)\n",
    "            #df = pd.concat([df, pd.get_dummies(df[i].astype(str), prefix=i)], axis=1)\n",
    "            #df.drop(i, axis=1, inplace=True)\n",
    "            all_data[i] = pd.factorize(all_data[i])[0]\n",
    "            #all_data[i] = all_data[i].astype('category')\n",
    "    \n",
    "extract_amount_features(train)"
   ]
  },
  {
   "cell_type": "code",
   "execution_count": 110,
   "metadata": {},
   "outputs": [],
   "source": [
    "# def deleteStartingWith(df,prefix):\n",
    "#     cols= df.loc[:, df.columns.str.startswith(prefix)]\n",
    "#     del cols\n",
    "#     del df[[col for col in df if col.startswith(prefix)]]\n",
    "# deleteStartingWith(X_train,'M')\n",
    "# deleteStartingWith(X_test,'M')\n",
    "# deleteStartingWith(X_train,'D')\n",
    "# deleteStartingWith(X_test,'D')\n",
    "\n",
    "# del X_test[[col for col in X_train if col.startswith('M')]]"
   ]
  },
  {
   "cell_type": "code",
   "execution_count": 111,
   "metadata": {},
   "outputs": [],
   "source": [
    "y_train = train['isFraud'].copy()\n",
    "\n",
    "X_train,X_test,y_train,y_test=train_test_split(train.drop('isFraud',axis=1),y_train,test_size=.2,random_state=1)"
   ]
  },
  {
   "cell_type": "markdown",
   "metadata": {},
   "source": [
    "from imblearn.over_sampling import SMOTE\n",
    "#ratio='minority'\n",
    "smote = SMOTE(n_jobs=8,sampling_strategy='minority')\n",
    "X_sm, y_sm = smote.fit_sample(X_train, y_train)\n",
    "X_sm.shape,y_sm.shape,X_train.shape"
   ]
  },
  {
   "cell_type": "code",
   "execution_count": 112,
   "metadata": {},
   "outputs": [
    {
     "data": {
      "text/plain": [
       "Index(['TransactionAmt', 'ProductCD', 'card1', 'card2', 'card3', 'card4',\n",
       "       'card5', 'card6', 'addr1', 'addr2',\n",
       "       ...\n",
       "       '_amount_mean__card_all__addr1', '_amount_std__card_all__addr1',\n",
       "       '_amount_pct__card_all__addr1', '_count_ProductCD', '_count_card1',\n",
       "       '_count_card2', '_count_card5', '_count_card6', '_count_P_emaildomain',\n",
       "       '_count__card_all__addr1'],\n",
       "      dtype='object', length=136)"
      ]
     },
     "execution_count": 112,
     "metadata": {},
     "output_type": "execute_result"
    }
   ],
   "source": [
    "X_train.columns"
   ]
  },
  {
   "cell_type": "code",
   "execution_count": null,
   "metadata": {},
   "outputs": [
    {
     "name": "stdout",
     "output_type": "stream",
     "text": [
      "[LightGBM] [Warning] feature_fraction is set=0.85, colsample_bytree=1.0 will be ignored. Current value: feature_fraction=0.85\n",
      "[LightGBM] [Warning] bagging_fraction is set=1, subsample=1.0 will be ignored. Current value: bagging_fraction=1\n",
      "[LightGBM] [Warning] num_threads is set=-1, n_jobs=-1 will be ignored. Current value: num_threads=-1\n",
      "[LightGBM] [Warning] feature_fraction is set=0.85, colsample_bytree=1.0 will be ignored. Current value: feature_fraction=0.85\n",
      "[LightGBM] [Warning] bagging_fraction is set=1, subsample=1.0 will be ignored. Current value: bagging_fraction=1\n",
      "[LightGBM] [Warning] num_threads is set=-1, n_jobs=-1 will be ignored. Current value: num_threads=-1\n",
      "[LightGBM] [Info] Number of positive: 3512, number of negative: 124488\n",
      "[LightGBM] [Warning] Auto-choosing col-wise multi-threading, the overhead of testing was 0.117286 seconds.\n",
      "You can set `force_col_wise=true` to remove the overhead.\n",
      "[LightGBM] [Info] Total Bins 18947\n",
      "[LightGBM] [Info] Number of data points in the train set: 128000, number of used features: 135\n",
      "[LightGBM] [Info] [binary:BoostFromScore]: pavg=0.027438 -> initscore=-3.568024\n",
      "[LightGBM] [Info] Start training from score -3.568024\n"
     ]
    }
   ],
   "source": [
    "%%time\n",
    "clf_lgb = train_lbg(X_train, y_train)"
   ]
  },
  {
   "cell_type": "code",
   "execution_count": null,
   "metadata": {},
   "outputs": [],
   "source": [
    "# clf.predict_proba(X_test)\n",
    "predict_plot(clf_lgb)\n",
    "# predict_plot(clf)"
   ]
  },
  {
   "cell_type": "code",
   "execution_count": null,
   "metadata": {},
   "outputs": [],
   "source": [
    "%%time\n",
    "clf = train_xgb(X_train, y_train)\n",
    "# clf = train_logistic(X_train,y_train)"
   ]
  },
  {
   "cell_type": "code",
   "execution_count": null,
   "metadata": {},
   "outputs": [],
   "source": [
    "predict_plot(clf)"
   ]
  },
  {
   "cell_type": "markdown",
   "metadata": {},
   "source": [
    "%%time\n",
    "clf_smote = train_xgb(X_sm,y_sm)"
   ]
  },
  {
   "cell_type": "markdown",
   "metadata": {},
   "source": [
    "predict_plot(clf_smote)"
   ]
  },
  {
   "cell_type": "code",
   "execution_count": null,
   "metadata": {},
   "outputs": [],
   "source": [
    "# sample_submission['isFraud'] = clf.predict_proba(X_test)[:,1]\n",
    "# sample_submission.to_csv('simple_xgboost.csv')"
   ]
  },
  {
   "cell_type": "code",
   "execution_count": null,
   "metadata": {},
   "outputs": [],
   "source": [
    "# def train_and_evaluate(X_train,y_train,X_test,y_test):\n",
    "#     clf = xgb.XGBClassifier(n_estimators=500,\n",
    "#                         n_jobs=4,\n",
    "#                         max_depth=9,\n",
    "#                         learning_rate=0.05,\n",
    "#                         subsample=0.9,\n",
    "#                         colsample_bytree=0.9,\n",
    "#                         missing=-999)\n",
    "\n",
    "#     clf.fit(X_train, y_train)\n",
    "#     print(y_test.shape,X_test.shape)\n",
    "#     predictions =clf.predict(X_test)\n",
    "#     plot_pre_curve(y_test,predictions)\n",
    "#     plot_roc(y_test,predictions)"
   ]
  },
  {
   "cell_type": "code",
   "execution_count": null,
   "metadata": {},
   "outputs": [],
   "source": []
  }
 ],
 "metadata": {
  "kernelspec": {
   "display_name": "Python 3",
   "language": "python",
   "name": "python3"
  },
  "language_info": {
   "codemirror_mode": {
    "name": "ipython",
    "version": 3
   },
   "file_extension": ".py",
   "mimetype": "text/x-python",
   "name": "python",
   "nbconvert_exporter": "python",
   "pygments_lexer": "ipython3",
   "version": "3.7.6"
  }
 },
 "nbformat": 4,
 "nbformat_minor": 4
}
