{
 "cells": [
  {
   "cell_type": "code",
   "execution_count": 18,
   "metadata": {
    "_cell_guid": "b1076dfc-b9ad-4769-8c92-a6c4dae69d19",
    "_uuid": "8f2839f25d086af736a60e9eeb907d3b93b6e0e5"
   },
   "outputs": [
    {
     "name": "stdout",
     "output_type": "stream",
     "text": [
      "['sample_submission.csv', 'train_identity.csv', 'train_transaction.csv']\n"
     ]
    }
   ],
   "source": [
    "import numpy as np # linear algebra\n",
    "import pandas as pd # data processing, CSV file I/O (e.g. pd.read_csv)\n",
    "import os\n",
    "input_dir = 'input'\n",
    "print(os.listdir(input_dir))"
   ]
  },
  {
   "cell_type": "code",
   "execution_count": 19,
   "metadata": {
    "_cell_guid": "79c7e3d0-c299-4dcb-8224-4455121ee9b0",
    "_uuid": "d629ff2d2480ee46fbb7e2d37f6b5fab8052498a"
   },
   "outputs": [],
   "source": [
    "from sklearn import preprocessing\n",
    "import xgboost as xgb\n",
    "from sklearn.metrics import roc_auc_score,precision_recall_curve,roc_curve\n",
    "import matplotlib.pyplot as plt\n",
    "import imblearn #for SMOTE\n",
    "from sklearn.decomposition import PCA, KernelPCA"
   ]
  },
  {
   "cell_type": "code",
   "execution_count": 20,
   "metadata": {},
   "outputs": [
    {
     "name": "stdout",
     "output_type": "stream",
     "text": [
      "Wall time: 0 ns\n"
     ]
    }
   ],
   "source": [
    "%%time\n",
    "# From kernel https://www.kaggle.com/gemartin/load-data-reduce-memory-usage\n",
    "# WARNING! THIS CAN DAMAGE THE DATA \n",
    "def reduce_mem_usage2(df):\n",
    "    \"\"\" iterate through all the columns of a dataframe and modify the data type\n",
    "        to reduce memory usage.        \n",
    "    \"\"\"\n",
    "    start_mem = df.memory_usage().sum() / 1024**2\n",
    "    print('Memory usage of dataframe is {:.2f} MB'.format(start_mem))\n",
    "    \n",
    "    for col in df.columns:\n",
    "        col_type = df[col].dtype\n",
    "        \n",
    "        if col_type != object:\n",
    "            c_min = df[col].min()\n",
    "            c_max = df[col].max()\n",
    "            if str(col_type)[:3] == 'int':\n",
    "                if c_min > np.iinfo(np.int8).min and c_max < np.iinfo(np.int8).max:\n",
    "                    df[col] = df[col].astype(np.int8)\n",
    "                elif c_min > np.iinfo(np.int16).min and c_max < np.iinfo(np.int16).max:\n",
    "                    df[col] = df[col].astype(np.int16)\n",
    "                elif c_min > np.iinfo(np.int32).min and c_max < np.iinfo(np.int32).max:\n",
    "                    df[col] = df[col].astype(np.int32)\n",
    "                elif c_min > np.iinfo(np.int64).min and c_max < np.iinfo(np.int64).max:\n",
    "                    df[col] = df[col].astype(np.int64)  \n",
    "            else:\n",
    "                if c_min > np.finfo(np.float16).min and c_max < np.finfo(np.float16).max:\n",
    "                    df[col] = df[col].astype(np.float16)\n",
    "                elif c_min > np.finfo(np.float32).min and c_max < np.finfo(np.float32).max:\n",
    "                    df[col] = df[col].astype(np.float32)\n",
    "                else:\n",
    "                    df[col] = df[col].astype(np.float64)\n",
    "#         else:\n",
    "#             df[col] = df[col].astype('category')\n",
    "\n",
    "    end_mem = df.memory_usage().sum() / 1024**2\n",
    "    print('Memory usage after optimization is: {:.2f} MB'.format(end_mem))\n",
    "    print('Decreased by {:.1f}%'.format(100 * (start_mem - end_mem) / start_mem))\n",
    "    \n",
    "    return df"
   ]
  },
  {
   "cell_type": "code",
   "execution_count": 13,
   "metadata": {},
   "outputs": [
    {
     "name": "stdout",
     "output_type": "stream",
     "text": [
      "Wall time: 0 ns\n"
     ]
    }
   ],
   "source": [
    "%%time\n",
    "def train_xgb(trainx,trainy):\n",
    "    clf = xgb.XGBClassifier(n_estimators=500,\n",
    "                        n_jobs=-1,\n",
    "                        max_depth=9,\n",
    "                        learning_rate=0.05,\n",
    "                        subsample=0.9,\n",
    "                        colsample_bytree=0.9,\n",
    "                        missing=-999,\n",
    "                        #tree_method='gpu_hist'\n",
    "                        )\n",
    "\n",
    "    clf.fit(trainx,trainy)\n",
    "    return clf\n",
    "from sklearn.linear_model import LogisticRegression\n",
    "\n",
    "def train_logistic(trainx,trainy):\n",
    "    lr=LogisticRegression(max_iter=10000)\n",
    "    lr.fit(X_train,y_train)\n",
    "    return lr"
   ]
  },
  {
   "cell_type": "code",
   "execution_count": 40,
   "metadata": {},
   "outputs": [],
   "source": [
    "#Plotting\n",
    "from sklearn.metrics import auc\n",
    "def plot_pre_curve(y_test,probs):\n",
    "    precision, recall, thresholds = precision_recall_curve(y_test, probs)\n",
    "#     fpr, tpr, thresholds = metrics.roc_curve(y, pred, pos_label=2)\n",
    "    auc_pr = auc(recall,precision)\n",
    "    plt.plot([0, 1], [0.5, 0.5], linestyle='--')\n",
    "    # plot the precision-recall curve for the model\n",
    "    plt.plot(recall, precision, marker='.')\n",
    "    plt.title(\"precision recall curve \"+str(auc_pr))\n",
    "    plt.xlabel('Recall')\n",
    "    plt.ylabel('Precision')\n",
    "    # show the plot\n",
    "    plt.show()\n",
    "    \n",
    "def plot_roc(y_test,probs):\n",
    "    fpr, tpr, thresholds = roc_curve(y_test, probs)\n",
    "    # plot no skill\n",
    "    plt.plot([0, 1], [0, 1], linestyle='--')\n",
    "    # plot the roc curve for the model\n",
    "    plt.plot(fpr, tpr, marker='.')\n",
    "    plt.title(\"ROC curve \"+str(roc_auc_score(y_test,probs)))\n",
    "    plt.xlabel('false positive rate')\n",
    "    plt.ylabel('true positive rate')\n",
    "    # show the plot\n",
    "    plt.show()"
   ]
  },
  {
   "cell_type": "code",
   "execution_count": 35,
   "metadata": {},
   "outputs": [],
   "source": [
    "def predict_plot(model):\n",
    "    print(y_test.shape,X_test.shape)\n",
    "    predictions =model.predict_proba(X_test)[:,1]\n",
    "    print(predictions)\n",
    "    plot_pre_curve(y_test,predictions)\n",
    "    plot_roc(y_test,predictions)\n"
   ]
  },
  {
   "cell_type": "code",
   "execution_count": 21,
   "metadata": {},
   "outputs": [
    {
     "name": "stdout",
     "output_type": "stream",
     "text": [
      "Wall time: 4.51 s\n"
     ]
    }
   ],
   "source": [
    "%%time\n",
    "train_transaction = pd.read_csv(input_dir+'/train_transaction.csv', index_col='TransactionID',nrows=60000)\n",
    "# test_transaction = pd.read_csv(input_dir+'/test_transaction.csv', index_col='TransactionID')\n",
    "\n",
    "train_identity = pd.read_csv(input_dir+'/train_identity.csv', index_col='TransactionID')\n",
    "# test_identity = pd.read_csv(input_dir+'/test_identity.csv', index_col='TransactionID')\n",
    "\n",
    "sample_submission = pd.read_csv(input_dir+'/sample_submission.csv', index_col='TransactionID')"
   ]
  },
  {
   "cell_type": "code",
   "execution_count": 22,
   "metadata": {},
   "outputs": [
    {
     "name": "stdout",
     "output_type": "stream",
     "text": [
      "Memory usage of dataframe is 201.17 MB\n",
      "Memory usage after optimization is: 65.96 MB\n",
      "Decreased by 67.2%\n",
      "(60000, 433)\n",
      "Wall time: 19.8 s\n"
     ]
    }
   ],
   "source": [
    "%%time\n",
    "from sklearn.model_selection import train_test_split\n",
    "\n",
    "train = train_transaction.merge(train_identity, how='left', left_index=True, right_index=True)\n",
    "# test = test_transaction.merge(test_identity, how='left', left_index=True, right_index=True)\n",
    "train = train.fillna(-999)\n",
    "# m_features = \n",
    "train = reduce_mem_usage2(train)\n",
    "\n",
    "print(train.shape)\n",
    "# print(test.shape)\n",
    "\n",
    "y_train = train['isFraud'].copy()\n",
    "\n",
    "X_train,X_test,y_train,y_test=train_test_split(train.drop('isFraud',axis=1),y_train,test_size=.2,random_state=1)\n",
    "\n",
    "# Drop target, fill in NaNs\n",
    "# X_train = train.drop('isFraud', axis=1)\n",
    "# X_test = test.copy()\n"
   ]
  },
  {
   "cell_type": "code",
   "execution_count": 23,
   "metadata": {},
   "outputs": [],
   "source": [
    "# Label Encoding\n",
    "for f in X_train.columns:\n",
    "    if X_train[f].dtype=='object' or X_test[f].dtype=='object': \n",
    "        lbl = preprocessing.LabelEncoder()\n",
    "        lbl.fit(list(X_train[f].values) + list(X_test[f].values))\n",
    "        X_train[f] = lbl.transform(list(X_train[f].values))\n",
    "        X_test[f] = lbl.transform(list(X_test[f].values))   "
   ]
  },
  {
   "cell_type": "code",
   "execution_count": 27,
   "metadata": {},
   "outputs": [],
   "source": [
    "def pca_vcols(all_data):\n",
    "    vcols = [f'V{i}' for i in range(1,340)]\n",
    "    sc = preprocessing.MinMaxScaler()\n",
    "\n",
    "    pca = PCA(n_components=2) #0.99\n",
    "    vcol_pca = pca.fit_transform(sc.fit_transform(all_data[vcols].fillna(-1)))\n",
    "\n",
    "    all_data['_vcol_pca0'] = vcol_pca[:,0]\n",
    "    all_data['_vcol_pca1'] = vcol_pca[:,1]\n",
    "    all_data['_vcol_nulls'] = all_data[vcols].isnull().sum(axis=1)\n",
    "\n",
    "    all_data.drop(vcols, axis=1, inplace=True)\n",
    "pca_vcols(X_train)\n",
    "pca_vcols(X_test)"
   ]
  },
  {
   "cell_type": "code",
   "execution_count": 11,
   "metadata": {},
   "outputs": [],
   "source": [
    "# def deleteStartingWith(df,prefix):\n",
    "#     cols= df.loc[:, df.columns.str.startswith(prefix)]\n",
    "#     del cols\n",
    "#     del df[[col for col in df if col.startswith(prefix)]]\n",
    "# deleteStartingWith(X_train,'M')\n",
    "# deleteStartingWith(X_test,'M')\n",
    "# deleteStartingWith(X_train,'D')\n",
    "# deleteStartingWith(X_test,'D')\n",
    "\n",
    "# del X_test[[col for col in X_train if col.startswith('M')]]"
   ]
  },
  {
   "cell_type": "code",
   "execution_count": 12,
   "metadata": {},
   "outputs": [
    {
     "data": {
      "text/plain": [
       "((93374, 96), (93374,), (48000, 96))"
      ]
     },
     "execution_count": 12,
     "metadata": {},
     "output_type": "execute_result"
    }
   ],
   "source": [
    "from imblearn.over_sampling import SMOTE\n",
    "#ratio='minority'\n",
    "smote = SMOTE(n_jobs=8,sampling_strategy='minority')\n",
    "X_sm, y_sm = smote.fit_sample(X_train, y_train)\n",
    "X_sm.shape,y_sm.shape,X_train.shape"
   ]
  },
  {
   "cell_type": "code",
   "execution_count": 28,
   "metadata": {},
   "outputs": [
    {
     "data": {
      "text/plain": [
       "Index(['TransactionDT', 'TransactionAmt', 'ProductCD', 'card1', 'card2',\n",
       "       'card3', 'card4', 'card5', 'card6', 'addr1', 'addr2', 'dist1', 'dist2',\n",
       "       'P_emaildomain', 'R_emaildomain', 'C1', 'C2', 'C3', 'C4', 'C5', 'C6',\n",
       "       'C7', 'C8', 'C9', 'C10', 'C11', 'C12', 'C13', 'C14', 'D1', 'D2', 'D3',\n",
       "       'D4', 'D5', 'D6', 'D7', 'D8', 'D9', 'D10', 'D11', 'D12', 'D13', 'D14',\n",
       "       'D15', 'M1', 'M2', 'M3', 'M4', 'M5', 'M6', 'M7', 'M8', 'M9', 'id_01',\n",
       "       'id_02', 'id_03', 'id_04', 'id_05', 'id_06', 'id_07', 'id_08', 'id_09',\n",
       "       'id_10', 'id_11', 'id_12', 'id_13', 'id_14', 'id_15', 'id_16', 'id_17',\n",
       "       'id_18', 'id_19', 'id_20', 'id_21', 'id_22', 'id_23', 'id_24', 'id_25',\n",
       "       'id_26', 'id_27', 'id_28', 'id_29', 'id_30', 'id_31', 'id_32', 'id_33',\n",
       "       'id_34', 'id_35', 'id_36', 'id_37', 'id_38', 'DeviceType', 'DeviceInfo',\n",
       "       '_vcol_pca0', '_vcol_pca1', '_vcol_nulls'],\n",
       "      dtype='object')"
      ]
     },
     "execution_count": 28,
     "metadata": {},
     "output_type": "execute_result"
    }
   ],
   "source": [
    "X_train.columns"
   ]
  },
  {
   "cell_type": "code",
   "execution_count": 29,
   "metadata": {},
   "outputs": [
    {
     "name": "stdout",
     "output_type": "stream",
     "text": [
      "Wall time: 1min 18s\n"
     ]
    }
   ],
   "source": [
    "%%time\n",
    "clf = train_xgb(X_train, y_train)\n",
    "# clf = train_logistic(X_train,y_train)"
   ]
  },
  {
   "cell_type": "code",
   "execution_count": 42,
   "metadata": {},
   "outputs": [
    {
     "name": "stdout",
     "output_type": "stream",
     "text": [
      "(12000,) (12000, 96)\n",
      "[0.00014227 0.00026397 0.00577206 ... 0.00422423 0.00051352 0.00086302]\n"
     ]
    },
    {
     "data": {
      "image/png": "[encoded data removed]",
      "text/plain": [
       "<Figure size 432x288 with 1 Axes>"
      ]
     },
     "metadata": {
      "needs_background": "light"
     },
     "output_type": "display_data"
    },
    {
     "data": {
      "image/png": "[encoded data removed]",
      "text/plain": [
       "<Figure size 432x288 with 1 Axes>"
      ]
     },
     "metadata": {
      "needs_background": "light"
     },
     "output_type": "display_data"
    }
   ],
   "source": [
    "# clf.predict_proba(X_test)\n",
    "predict_plot(clf)"
   ]
  },
  {
   "cell_type": "code",
   "execution_count": 31,
   "metadata": {},
   "outputs": [
    {
     "name": "stdout",
     "output_type": "stream",
     "text": [
      "Wall time: 2min 53s\n"
     ]
    }
   ],
   "source": [
    "%%time\n",
    "clf_smote = train_xgb(X_sm,y_sm)"
   ]
  },
  {
   "cell_type": "code",
   "execution_count": 41,
   "metadata": {},
   "outputs": [
    {
     "name": "stdout",
     "output_type": "stream",
     "text": [
      "(12000,) (12000, 96)\n",
      "[0.00064787 0.00170394 0.0667025  ... 0.00189745 0.00144273 0.0011741 ]\n"
     ]
    },
    {
     "data": {
      "image/png": "[encoded data removed]",
      "text/plain": [
       "<Figure size 432x288 with 1 Axes>"
      ]
     },
     "metadata": {
      "needs_background": "light"
     },
     "output_type": "display_data"
    },
    {
     "data": {
      "image/png": "[encoded data removed]",
      "text/plain": [
       "<Figure size 432x288 with 1 Axes>"
      ]
     },
     "metadata": {
      "needs_background": "light"
     },
     "output_type": "display_data"
    }
   ],
   "source": [
    "predict_plot(clf_smote)"
   ]
  },
  {
   "cell_type": "code",
   "execution_count": null,
   "metadata": {},
   "outputs": [],
   "source": [
    "# sample_submission['isFraud'] = clf.predict_proba(X_test)[:,1]\n",
    "# sample_submission.to_csv('simple_xgboost.csv')"
   ]
  },
  {
   "cell_type": "markdown",
   "metadata": {},
   "source": [
    "def train_and_evaluate(X_train,y_train,X_test,y_test):\n",
    "    clf = xgb.XGBClassifier(n_estimators=500,\n",
    "                        n_jobs=4,\n",
    "                        max_depth=9,\n",
    "                        learning_rate=0.05,\n",
    "                        subsample=0.9,\n",
    "                        colsample_bytree=0.9,\n",
    "                        missing=-999)\n",
    "\n",
    "    clf.fit(X_train, y_train)\n",
    "    print(y_test.shape,X_test.shape)\n",
    "    predictions =clf.predict(X_test)\n",
    "    plot_pre_curve(y_test,predictions)\n",
    "    plot_roc(y_test,predictions)"
   ]
  }
 ],
 "metadata": {
  "kernelspec": {
   "display_name": "Python 3",
   "language": "python",
   "name": "python3"
  },
  "language_info": {
   "codemirror_mode": {
    "name": "ipython",
    "version": 3
   },
   "file_extension": ".py",
   "mimetype": "text/x-python",
   "name": "python",
   "nbconvert_exporter": "python",
   "pygments_lexer": "ipython3",
   "version": "3.7.6"
  }
 },
 "nbformat": 4,
 "nbformat_minor": 4
}
